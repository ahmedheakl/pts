{
 "cells": [
  {
   "cell_type": "code",
   "execution_count": 90,
   "id": "5e0ff1e3",
   "metadata": {},
   "outputs": [],
   "source": [
    "\n",
    "# from datasets import load_dataset\n",
    "\n",
    "# dataset = load_dataset(\"hkust-nlp/dart-math-pool-math\", split=\"train\")\n",
    "\n",
    "\n",
    "# for level in range(6):\n",
    "    \n",
    "#     dataset_filtered = dataset.filter(\n",
    "#             lambda x: x[\"query_metadata\"][\"level\"] == level, num_proc=32\n",
    "#         )\n",
    "#     print(f\"Level {level} has {len(dataset_filtered)} samples\")"
   ]
  },
  {
   "cell_type": "code",
   "execution_count": 91,
   "id": "7e4d0c24",
   "metadata": {},
   "outputs": [],
   "source": [
    "\n",
    "# def build_predictions_instruct(\n",
    "#     resps: list[list[str]], docs: list[dict]\n",
    "# ) -> list[list[str]]:\n",
    "#     def extract_code_between_backticks(s):\n",
    "#         first = s.find(\"```\")\n",
    "#         if first == -1:\n",
    "#             return s\n",
    "#         # Check for 'python' after the opening backticks\n",
    "#         start = first + 3\n",
    "#         if s[start:start+6].lower() == 'python':\n",
    "#             start += 6\n",
    "#             # Optionally skip a newline after 'python'\n",
    "#             if start < len(s) and s[start] == '\\n':\n",
    "#                 start += 1\n",
    "#         second = s.find(\"```\", start)\n",
    "#         if second == -1:\n",
    "#             return s[start:]\n",
    "#         return s[start:second]\n",
    "\n",
    "#     return [\n",
    "#         [\n",
    "#             extract_code_between_backticks(r)\n",
    "#             for r in resp\n",
    "#         ]\n",
    "#         for resp, doc in zip(resps, docs)\n",
    "#     ]"
   ]
  },
  {
   "cell_type": "code",
   "execution_count": 92,
   "id": "aa23eb5a",
   "metadata": {},
   "outputs": [],
   "source": [
    "prompt =  \"\\ndef check_if_last_char_is_a_letter(txt):\\n    '''\\n    Create a function that returns True if the last character\\n    of a given string is an alphabetical character and is not\\n    a part of a word, and False otherwise.\\n    Note: \\\"word\\\" is a group of characters separated by space.\\n\\n    Examples:\\n    check_if_last_char_is_a_letter(\\\"apple pie\\\") \\u279e False\\n    check_if_last_char_is_a_letter(\\\"apple pi e\\\") \\u279e True\\n    check_if_last_char_is_a_letter(\\\"apple pi e \\\") \\u279e False\\n    check_if_last_char_is_a_letter(\\\"\\\") \\u279e False \\n    '''\\n\""
   ]
  },
  {
   "cell_type": "code",
   "execution_count": 101,
   "id": "7742eb30",
   "metadata": {},
   "outputs": [
    {
     "name": "stdout",
     "output_type": "stream",
     "text": [
      "from typing import List\n",
      "\n",
      "\n",
      "def has_close_elements(numbers: List[float], threshold: float) -> bool:\n",
      "    \"\"\" Check if in given list of numbers, are any two numbers closer to each other than\n",
      "    given threshold.\n",
      "    >>> has_close_elements([1.0, 2.0, 3.0], 0.5)\n",
      "    False\n",
      "    >>> has_close_elements([1.0, 2.8, 3.0, 4.0, 5.0, 2.0], 0.3)\n",
      "    True\n",
      "    \"\"\"\n",
      "\n"
     ]
    }
   ],
   "source": [
    "\n",
    "from datasets import load_dataset, load_from_disk\n",
    "\n",
    "\n",
    "\n",
    "dataset = load_dataset(\"evalplus/humanevalplus\", split=\"test\")\n",
    "#first row\n",
    "row = dataset[0]\n",
    "prompt = row[\"prompt\"]\n",
    "test_cases = row[\"test\"]\n",
    "print(prompt)"
   ]
  },
  {
   "cell_type": "code",
   "execution_count": null,
   "id": "d17ebfdd",
   "metadata": {},
   "outputs": [],
   "source": [
    "setup = {prompt: test_cases, \"input\": }"
   ]
  },
  {
   "cell_type": "code",
   "execution_count": null,
   "id": "7ebd2419",
   "metadata": {},
   "outputs": [],
   "source": [
    "predicted = \"\"\"from typing import List\n",
    "\n",
    "def has_close_elements(numbers: List[float], threshold: float) -> bool:\n",
    "    \\\"\\\"\\\" Check if in given list of numbers, are any two numbers closer to each other than\n",
    "    given threshold.\n",
    "    >>> has_close_elements([1.0, 2.0, 3.0], 0.5)\n",
    "    False\n",
    "    >>> has_close_elements([1.0, 2.8, 3.0, 4.0, 5.0, 2.0], 0.3)\n",
    "    True\n",
    "    \\\"\\\"\\\"return False\n",
    "    numbers.sort()\n",
    "    for i in range(len(numbers) - 1):\n",
    "        if abs(numbers[i] - numbers[i + 1]) < threshold:\n",
    "            return True\n",
    "    return False\n",
    "\"\"\""
   ]
  }
 ],
 "metadata": {
  "kernelspec": {
   "display_name": "arina-cass",
   "language": "python",
   "name": "python3"
  },
  "language_info": {
   "codemirror_mode": {
    "name": "ipython",
    "version": 3
   },
   "file_extension": ".py",
   "mimetype": "text/x-python",
   "name": "python",
   "nbconvert_exporter": "python",
   "pygments_lexer": "ipython3",
   "version": "3.10.18"
  }
 },
 "nbformat": 4,
 "nbformat_minor": 5
}
